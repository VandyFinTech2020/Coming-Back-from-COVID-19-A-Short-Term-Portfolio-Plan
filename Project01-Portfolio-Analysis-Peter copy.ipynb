{
 "cells": [
  {
   "cell_type": "markdown",
   "metadata": {},
   "source": [
    "# Functions for retrieving data, making basic calculations, and running Monte Carlo simulations"
   ]
  },
  {
   "cell_type": "markdown",
   "metadata": {},
   "source": [
    "## See [Basic usage](#Basic-usage) below if you just want to see how to use the module and don't care to read the code."
   ]
  },
  {
   "cell_type": "markdown",
   "metadata": {},
   "source": [
    "### Imports"
   ]
  },
  {
   "cell_type": "code",
   "execution_count": 32,
   "metadata": {},
   "outputs": [],
   "source": [
    "import pandas as pd\n",
    "from pathlib import Path\n",
    "import numpy as np\n",
    "import datetime as dt\n",
    "from pathlib import Path\n",
    "import os\n",
    "from datetime import datetime, timedelta"
   ]
  },
  {
   "cell_type": "code",
   "execution_count": 33,
   "metadata": {},
   "outputs": [],
   "source": [
    "from sqlalchemy import create_engine"
   ]
  },
  {
   "cell_type": "code",
   "execution_count": 34,
   "metadata": {},
   "outputs": [],
   "source": [
    "np.random.seed(42)"
   ]
  },
  {
   "cell_type": "markdown",
   "metadata": {},
   "source": [
    "### Connect to DB"
   ]
  },
  {
   "cell_type": "code",
   "execution_count": 35,
   "metadata": {},
   "outputs": [],
   "source": [
    "# connectionString = \"dbname='project01' user='pgadmin@fintech-postgres' host='fintech-postgres.postgres.database.azure.com' password='CgYRz!)[4pfB' port='5432' sslmode='true'\"\n",
    "engine = create_engine(\n",
    "    \"postgresql://pgadmin@fintech-postgres:CgYRz!)[4pfB@fintech-postgres.postgres.database.azure.com:5432/project01\")"
   ]
  },
  {
   "cell_type": "markdown",
   "metadata": {},
   "source": [
    "### Functions definitions"
   ]
  },
  {
   "cell_type": "code",
   "execution_count": 36,
   "metadata": {},
   "outputs": [],
   "source": [
    "def get_portfolio_daily_returns(portfolio_name, *, covid_phase):\n",
    "    '''\n",
    "    portfolio_name := string,\n",
    "    covid_phase := boolean (whether to include data including dates 2/19/20 - 4/29/20)\n",
    "    \n",
    "    Query the postgres db.\n",
    "    Run basic calculations.\n",
    "    \n",
    "    Return DF of portfolio daily returns that will be used in the rest of the analysis.\n",
    "    '''\n",
    "    \n",
    "    q = f'''\n",
    "        select portfolio_name, weight, \"date\" as close_date, \n",
    "            close_price, ticker_name, covidineffect \n",
    "        from portfolio p\n",
    "            inner join portfolio_tickers pt\n",
    "            on p.portfolio_id = pt.portfolio_id\n",
    "            inner join price\n",
    "            on pt.ticker_id = price.ticker_id\n",
    "        where price.covidineffect = {covid_phase} and p.portfolio_name = '{portfolio_name}'\n",
    "        '''\n",
    "    portfolio_df = pd.read_sql(q, engine)\n",
    "    \n",
    "    # Pivot the table so dates are index\n",
    "    portfolio_df = portfolio_df.pivot(index='close_date', columns='ticker_name', values='close_price')\n",
    "    \n",
    "    daily_returns = portfolio_df.pct_change()\n",
    "    \n",
    "    daily_returns = daily_returns.dropna()\n",
    "    \n",
    "    return daily_returns"
   ]
  },
  {
   "cell_type": "code",
   "execution_count": 37,
   "metadata": {},
   "outputs": [],
   "source": [
    "def portfolio_figures(pf_daily_returns):\n",
    "    '''\n",
    "    Returns tuple(last_close_price, returns_mean, returns_std)\n",
    "    which can be passed in directly to `run_simulations`.\n",
    "    '''\n",
    "    return pf_daily_returns.iloc[-1], pf_daily_returns.mean(), pf_daily_returns.std()"
   ]
  },
  {
   "cell_type": "code",
   "execution_count": 38,
   "metadata": {},
   "outputs": [],
   "source": [
    "def run_simulations(pf_figures, num_records, num_simulations):\n",
    "    '''\n",
    "    pf_data := tuple(last_close_prices, returns_means, returns_stds)\n",
    "    \n",
    "    Runs `num_simulations` Monte Carlo simulations each of `num_records`.\n",
    "    \n",
    "    Returns DF of cumulative returns\n",
    "    '''\n",
    "    \n",
    "    monte_carlo_cum_returns_df = pd.DataFrame()\n",
    "    \n",
    "    last_close_prices, returns_means, returns_stds = pf_figures\n",
    "    \n",
    "    for m in range(num_simulations):\n",
    "        simulated_prices_all = [[price] for price in last_close_prices]\n",
    "        \n",
    "        for _ in range(num_records):\n",
    "            \n",
    "            for i, prices in enumerate(simulated_prices_all):\n",
    "                sim_price = prices[-1] * (1 + np.random.normal(returns_means[i], returns_stds[i]))\n",
    "                prices.append(sim_price)\n",
    "\n",
    "        monte_carlo_price_df = pd.DataFrame(dict(zip(last_close_prices.index, simulated_prices_all)))\n",
    "\n",
    "        sim_daily_returns = monte_carlo_price_df.pct_change()\n",
    "\n",
    "        weighted_returns = sim_daily_returns.dot([0.25] * 4)\n",
    "\n",
    "        monte_carlo_cum_returns_df[m] = (1 + weighted_returns.fillna(0)).cumprod()\n",
    "    \n",
    "    return monte_carlo_cum_returns_df"
   ]
  },
  {
   "cell_type": "markdown",
   "metadata": {},
   "source": [
    "## Basic usage\n",
    "\n",
    "The main functionality here is wrapped in 3 functions: `get_portfolio_daily_returns`, `portfolio_figures`, and `run_simulations`. You can run `portfolio_figures?` to view the doc string or just scroll up and look over the function definition."
   ]
  },
  {
   "cell_type": "markdown",
   "metadata": {},
   "source": [
    "### Examples"
   ]
  },
  {
   "cell_type": "markdown",
   "metadata": {},
   "source": [
    "Suppose we want to compare the cumulative returns of the 5 portfolios using just the data before COVID.\n",
    "Here's how we could get those data:"
   ]
  },
  {
   "cell_type": "code",
   "execution_count": 39,
   "metadata": {},
   "outputs": [],
   "source": [
    "# List of portfolios\n",
    "portfolios = ['pharma', 'food', 'communication', 'hedge', 'financial']\n",
    "\n",
    "# Dictionary for storing the results of the simulations\n",
    "sim_results = dict.fromkeys(portfolios)\n",
    "\n",
    "# Do the simulations and store results\n",
    "for pf in portfolios:\n",
    "    # covid=False here since we don't want data after 2/19/2020\n",
    "    # Also notice the keyword `covid` is required here\n",
    "    pf_returns = get_portfolio_daily_returns(pf, covid_phase=False)\n",
    "    pf_figures = portfolio_figures(pf_returns)\n",
    "    pf_sims = run_simulations(pf_figures, 105, 100)\n",
    "    sim_results[pf] = pf_sims"
   ]
  },
  {
   "cell_type": "code",
   "execution_count": 40,
   "metadata": {},
   "outputs": [
    {
     "data": {
      "text/html": [
       "<div>\n",
       "<style scoped>\n",
       "    .dataframe tbody tr th:only-of-type {\n",
       "        vertical-align: middle;\n",
       "    }\n",
       "\n",
       "    .dataframe tbody tr th {\n",
       "        vertical-align: top;\n",
       "    }\n",
       "\n",
       "    .dataframe thead th {\n",
       "        text-align: right;\n",
       "    }\n",
       "</style>\n",
       "<table border=\"1\" class=\"dataframe\">\n",
       "  <thead>\n",
       "    <tr style=\"text-align: right;\">\n",
       "      <th></th>\n",
       "      <th>0</th>\n",
       "    </tr>\n",
       "  </thead>\n",
       "  <tbody>\n",
       "    <tr>\n",
       "      <th>26</th>\n",
       "      <td>0.969090</td>\n",
       "    </tr>\n",
       "    <tr>\n",
       "      <th>27</th>\n",
       "      <td>0.975597</td>\n",
       "    </tr>\n",
       "    <tr>\n",
       "      <th>28</th>\n",
       "      <td>0.970836</td>\n",
       "    </tr>\n",
       "    <tr>\n",
       "      <th>29</th>\n",
       "      <td>0.977458</td>\n",
       "    </tr>\n",
       "    <tr>\n",
       "      <th>30</th>\n",
       "      <td>0.980093</td>\n",
       "    </tr>\n",
       "  </tbody>\n",
       "</table>\n",
       "</div>"
      ],
      "text/plain": [
       "           0\n",
       "26  0.969090\n",
       "27  0.975597\n",
       "28  0.970836\n",
       "29  0.977458\n",
       "30  0.980093"
      ]
     },
     "execution_count": 40,
     "metadata": {},
     "output_type": "execute_result"
    }
   ],
   "source": [
    "# Results of one of the portfolios\n",
    "pharma_sim_results = sim_results['pharma']\n",
    "pharma_sim_results.tail()"
   ]
  },
  {
   "cell_type": "markdown",
   "metadata": {},
   "source": [
    "If we just want to get the (actual) daily returns of a portfolio, we can do that easily."
   ]
  },
  {
   "cell_type": "code",
   "execution_count": 41,
   "metadata": {},
   "outputs": [
    {
     "data": {
      "text/html": [
       "<div>\n",
       "<style scoped>\n",
       "    .dataframe tbody tr th:only-of-type {\n",
       "        vertical-align: middle;\n",
       "    }\n",
       "\n",
       "    .dataframe tbody tr th {\n",
       "        vertical-align: top;\n",
       "    }\n",
       "\n",
       "    .dataframe thead th {\n",
       "        text-align: right;\n",
       "    }\n",
       "</style>\n",
       "<table border=\"1\" class=\"dataframe\">\n",
       "  <thead>\n",
       "    <tr style=\"text-align: right;\">\n",
       "      <th>ticker_name</th>\n",
       "      <th>ABT</th>\n",
       "      <th>JNJ</th>\n",
       "      <th>MRK</th>\n",
       "      <th>PFE</th>\n",
       "    </tr>\n",
       "    <tr>\n",
       "      <th>close_date</th>\n",
       "      <th></th>\n",
       "      <th></th>\n",
       "      <th></th>\n",
       "      <th></th>\n",
       "    </tr>\n",
       "  </thead>\n",
       "  <tbody>\n",
       "    <tr>\n",
       "      <th>2019-02-20</th>\n",
       "      <td>0.007200</td>\n",
       "      <td>0.004864</td>\n",
       "      <td>0.002398</td>\n",
       "      <td>-0.009390</td>\n",
       "    </tr>\n",
       "    <tr>\n",
       "      <th>2019-02-21</th>\n",
       "      <td>-0.005295</td>\n",
       "      <td>-0.006821</td>\n",
       "      <td>0.005036</td>\n",
       "      <td>-0.001422</td>\n",
       "    </tr>\n",
       "    <tr>\n",
       "      <th>2019-02-22</th>\n",
       "      <td>0.013175</td>\n",
       "      <td>0.008714</td>\n",
       "      <td>0.011775</td>\n",
       "      <td>0.019459</td>\n",
       "    </tr>\n",
       "    <tr>\n",
       "      <th>2019-02-25</th>\n",
       "      <td>0.009589</td>\n",
       "      <td>-0.002928</td>\n",
       "      <td>-0.004829</td>\n",
       "      <td>0.002793</td>\n",
       "    </tr>\n",
       "    <tr>\n",
       "      <th>2019-02-26</th>\n",
       "      <td>-0.001431</td>\n",
       "      <td>-0.000661</td>\n",
       "      <td>0.004479</td>\n",
       "      <td>-0.001393</td>\n",
       "    </tr>\n",
       "  </tbody>\n",
       "</table>\n",
       "</div>"
      ],
      "text/plain": [
       "ticker_name       ABT       JNJ       MRK       PFE\n",
       "close_date                                         \n",
       "2019-02-20   0.007200  0.004864  0.002398 -0.009390\n",
       "2019-02-21  -0.005295 -0.006821  0.005036 -0.001422\n",
       "2019-02-22   0.013175  0.008714  0.011775  0.019459\n",
       "2019-02-25   0.009589 -0.002928 -0.004829  0.002793\n",
       "2019-02-26  -0.001431 -0.000661  0.004479 -0.001393"
      ]
     },
     "execution_count": 41,
     "metadata": {},
     "output_type": "execute_result"
    }
   ],
   "source": [
    "pharma_pf_real_daily_returns = get_portfolio_daily_returns('pharma', covid_phase=False)\n",
    "pharma_pf_real_daily_returns.head()"
   ]
  },
  {
   "cell_type": "markdown",
   "metadata": {},
   "source": [
    "Find the covariance of a stock:"
   ]
  },
  {
   "cell_type": "code",
   "execution_count": 43,
   "metadata": {},
   "outputs": [
    {
     "ename": "TypeError",
     "evalue": "'function' object is not subscriptable",
     "output_type": "error",
     "traceback": [
      "\u001b[1;31m---------------------------------------------------------------------------\u001b[0m",
      "\u001b[1;31mTypeError\u001b[0m                                 Traceback (most recent call last)",
      "\u001b[1;32m<ipython-input-43-1c81f32e3950>\u001b[0m in \u001b[0;36m<module>\u001b[1;34m\u001b[0m\n\u001b[0;32m      1\u001b[0m \u001b[1;31m# JNJ daily returns\u001b[0m\u001b[1;33m\u001b[0m\u001b[1;33m\u001b[0m\u001b[1;33m\u001b[0m\u001b[0m\n\u001b[1;32m----> 2\u001b[1;33m \u001b[0mpharma\u001b[0m \u001b[1;33m=\u001b[0m \u001b[0mget_portfolio_daily_returns\u001b[0m\u001b[1;33m[\u001b[0m\u001b[1;34m'pharma'\u001b[0m\u001b[1;33m]\u001b[0m\u001b[1;33m\u001b[0m\u001b[1;33m\u001b[0m\u001b[0m\n\u001b[0m\u001b[0;32m      3\u001b[0m \u001b[1;33m\u001b[0m\u001b[0m\n\u001b[0;32m      4\u001b[0m \u001b[1;31m# S&P 500 real returns\u001b[0m\u001b[1;33m\u001b[0m\u001b[1;33m\u001b[0m\u001b[1;33m\u001b[0m\u001b[0m\n\u001b[0;32m      5\u001b[0m \u001b[0msp500_real_daily_returns\u001b[0m \u001b[1;33m=\u001b[0m \u001b[0mget_portfolio_daily_returns\u001b[0m\u001b[1;33m(\u001b[0m\u001b[1;34m'S&P500'\u001b[0m\u001b[1;33m,\u001b[0m \u001b[0mcovid_phase\u001b[0m\u001b[1;33m=\u001b[0m\u001b[1;32mFalse\u001b[0m\u001b[1;33m)\u001b[0m\u001b[1;33m\u001b[0m\u001b[1;33m\u001b[0m\u001b[0m\n",
      "\u001b[1;31mTypeError\u001b[0m: 'function' object is not subscriptable"
     ]
    }
   ],
   "source": [
    "# JNJ daily returns\n",
    "pharma = get_portfolio_daily_returns['pharma']\n",
    "\n",
    "# S&P 500 real returns\n",
    "sp500_real_daily_returns = get_portfolio_daily_returns('S&P500', covid_phase=False)\n",
    "\n",
    "# JNJ covariance\n",
    "pharma_cov_non_covid = jnj.cov(sp500_real_daily_returns['SP500'])\n",
    "pharma.cov(sp500_real_daily_returns['SP500'])\n",
    "pharma_cov_non_covid"
   ]
  },
  {
   "cell_type": "code",
   "execution_count": null,
   "metadata": {},
   "outputs": [],
   "source": [
    "\n"
   ]
  },
  {
   "cell_type": "code",
   "execution_count": null,
   "metadata": {},
   "outputs": [],
   "source": []
  },
  {
   "cell_type": "code",
   "execution_count": null,
   "metadata": {},
   "outputs": [],
   "source": [
    "# JNJ daily returns\n",
    "\n",
    "\n",
    "# S&P 500 real returns\n",
    "\n",
    "\n",
    "# JNJ covariance\n"
   ]
  },
  {
   "cell_type": "code",
   "execution_count": null,
   "metadata": {},
   "outputs": [],
   "source": []
  },
  {
   "cell_type": "code",
   "execution_count": null,
   "metadata": {},
   "outputs": [],
   "source": []
  },
  {
   "cell_type": "code",
   "execution_count": null,
   "metadata": {},
   "outputs": [],
   "source": []
  },
  {
   "cell_type": "code",
   "execution_count": null,
   "metadata": {},
   "outputs": [],
   "source": []
  },
  {
   "cell_type": "code",
   "execution_count": null,
   "metadata": {},
   "outputs": [],
   "source": []
  },
  {
   "cell_type": "code",
   "execution_count": null,
   "metadata": {},
   "outputs": [],
   "source": []
  },
  {
   "cell_type": "markdown",
   "metadata": {},
   "source": [
    "## Tests"
   ]
  },
  {
   "cell_type": "code",
   "execution_count": null,
   "metadata": {},
   "outputs": [],
   "source": [
    "# Tests here\n"
   ]
  },
  {
   "cell_type": "code",
   "execution_count": null,
   "metadata": {},
   "outputs": [],
   "source": [
    "cumulative_returns = [sim_results[pf].iloc[-1] for pf in portfolios]\n"
   ]
  }
 ],
 "metadata": {
  "kernelspec": {
   "display_name": "Python (Viz)",
   "language": "python",
   "name": "viz"
  },
  "language_info": {
   "codemirror_mode": {
    "name": "ipython",
    "version": 3
   },
   "file_extension": ".py",
   "mimetype": "text/x-python",
   "name": "python",
   "nbconvert_exporter": "python",
   "pygments_lexer": "ipython3",
   "version": "3.7.7"
  }
 },
 "nbformat": 4,
 "nbformat_minor": 4
}
