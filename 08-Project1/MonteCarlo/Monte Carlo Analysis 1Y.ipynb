{
 "cells": [
  {
   "cell_type": "code",
   "execution_count": 40,
   "metadata": {},
   "outputs": [],
   "source": [
    "# Import libraries and dependencies\n",
    "import numpy as np\n",
    "import pandas as pd\n",
    "from pathlib import Path\n",
    "import seaborn as sns\n",
    "%matplotlib inline"
   ]
  },
  {
   "cell_type": "code",
   "execution_count": 41,
   "metadata": {},
   "outputs": [],
   "source": [
    "ETCG1Y_Data = Path(\"../Resources1/ETCG1Y_Data.csv\")\n",
    "GLD1Y_Data = Path(\"../Resources1/GLD1Y_Data.csv\")\n",
    "GBTC1Y_Data = Path(\"../Resources1/GBTC1Y_Data.csv\")\n",
    "SLV1Y_Data = Path(\"../Resources1/SLV1Y_Data.csv\")\n",
    "SP5001Y_Data = Path(\"../Resources1/SP5001Y_Data.csv\")"
   ]
  },
  {
   "cell_type": "code",
   "execution_count": 43,
   "metadata": {},
   "outputs": [],
   "source": [
    "# Read the CSVs and set the `date` column as a datetime index to the DataFrame\n",
    "ETCG1Y_Data_df = pd.read_csv(ETCG1Y_Data, index_col=\"Date\", infer_datetime_format=True, parse_dates=True)\n",
    "GLD1Y_Data_df = pd.read_csv(GLD1Y_Data, index_col=\"Date\", infer_datetime_format=True, parse_dates=True)\n",
    "GBTC1Y_Data_df = pd.read_csv(GBTC1Y_Data, index_col=\"Date\", infer_datetime_format=True, parse_dates=True)\n",
    "SLV1Y_Data_df = pd.read_csv(SLV1Y_Data, index_col=\"Date\", infer_datetime_format=True, parse_dates=True)\n",
    "SP5001Y_Data_df = pd.read_csv(SP5001Y_Data, index_col=\"Date\", infer_datetime_format=True, parse_dates=True)"
   ]
  },
  {
   "cell_type": "code",
   "execution_count": null,
   "metadata": {},
   "outputs": [],
   "source": [
    "# Create a new pivot table where the columns are the closing prices for each ticker\n",
    "combined_df = pd.concat([ETCG1Y_Data_df, GLD1Y_Data_df, GBTC1Y_Data_df, SLV1Y_Data_df], axis=\"columns\", join=\"inner\")\n",
    "\n",
    "# Sort datetime index in ascending order (past to present)\n",
    "combined_df.sort_index(inplace=True)\n",
    "\n",
    "# Set column names\n",
    "combined_df.columns = ['ETCG', 'GLD', 'GBTC', 'SLV']\n",
    "\n",
    "# Display a few rows\n",
    "combined_df.head()"
   ]
  },
  {
   "cell_type": "code",
   "execution_count": null,
   "metadata": {},
   "outputs": [],
   "source": [
    "# Plot the relationship between the two variables\n",
    "combined_df.plot(kind='scatter', x='GBTC', y='GLD', title = \"GBTC to GLD\")"
   ]
  },
  {
   "cell_type": "code",
   "execution_count": null,
   "metadata": {},
   "outputs": [],
   "source": [
    "# Plot the relationship between the two variables\n",
    "combined_df.plot(kind='scatter', x='ETCG', y='SLV', title = \"ETCG to SLV\")"
   ]
  },
  {
   "cell_type": "code",
   "execution_count": null,
   "metadata": {},
   "outputs": [],
   "source": [
    "# Plot the relationship between the two variables\n",
    "combined_df.plot(kind='scatter', x='GBTC', y='ETCG', title = \"GBTC to ETCG\")"
   ]
  },
  {
   "cell_type": "code",
   "execution_count": null,
   "metadata": {},
   "outputs": [],
   "source": [
    "# Plot the relationship between the two variables\n",
    "combined_df.plot(kind='scatter', x='GLD', y='SLV', title = \"GLD to SLV\")"
   ]
  },
  {
   "cell_type": "code",
   "execution_count": null,
   "metadata": {},
   "outputs": [],
   "source": [
    "# Use the `pct_change` function to calculate daily returns\n",
    "daily_returns = combined_df.pct_change()\n",
    "daily_returns.head()"
   ]
  },
  {
   "cell_type": "code",
   "execution_count": null,
   "metadata": {},
   "outputs": [],
   "source": [
    "daily_returns.plot(title = \"Daily Returns\")"
   ]
  },
  {
   "cell_type": "code",
   "execution_count": null,
   "metadata": {},
   "outputs": [],
   "source": [
    "# Use the `std` function and multiply by the square root of the number of trading days in a year to get annualized volatility\n",
    "volatility = daily_returns.std() * np.sqrt(252)\n",
    "volatility.sort_values(inplace=True)\n",
    "volatility"
   ]
  },
  {
   "cell_type": "code",
   "execution_count": null,
   "metadata": {},
   "outputs": [],
   "source": [
    "# Set weights for corresponding risk profile of stocks, use the `dot` function to multiply each weight by the corresponding stock daily return\n",
    "weights = [0.25, 0.25, 0.25, 0.25]\n",
    "portfolio_returns = daily_returns.dot(weights)\n",
    "portfolio_returns.head()"
   ]
  },
  {
   "cell_type": "code",
   "execution_count": null,
   "metadata": {},
   "outputs": [],
   "source": [
    "# Use the `cumprod` function to calculate cumulative returns\n",
    "cumulative_returns = (1 + portfolio_returns).cumprod()\n",
    "cumulative_returns.head()"
   ]
  },
  {
   "cell_type": "code",
   "execution_count": null,
   "metadata": {},
   "outputs": [],
   "source": [
    "# Plot the returns of the portfolio in terms of money\n",
    "initial_investment = 10000\n",
    "cumulative_profit = initial_investment * cumulative_returns\n",
    "cumulative_profit.plot()"
   ]
  },
  {
   "cell_type": "code",
   "execution_count": null,
   "metadata": {},
   "outputs": [],
   "source": [
    "# Re-calculate daily returns as the DataFrame was modified in part 1\n",
    "daily_returns = combined_df.pct_change()\n",
    "daily_returns.head()"
   ]
  },
  {
   "cell_type": "code",
   "execution_count": null,
   "metadata": {},
   "outputs": [],
   "source": [
    "# Use the `corr` function to calculate the correlation between stock returns\n",
    "correlation = daily_returns.corr()\n",
    "correlation"
   ]
  },
  {
   "cell_type": "code",
   "execution_count": null,
   "metadata": {},
   "outputs": [],
   "source": [
    "# Use the `heatmap` function from the Seaborn library to visualize the correlation table\n",
    "hm = sns.heatmap(correlation, vmin=-1, vmax=1,) \n",
    "hm.set_title(\"Correlation HeatMap\") \n",
    "hm"
   ]
  },
  {
   "cell_type": "code",
   "execution_count": null,
   "metadata": {},
   "outputs": [],
   "source": [
    "# Use the `mean` and `std` functions to calculate the annualized sharpe ratio\n",
    "sharpe_ratios = (daily_returns.mean() * 252) / (daily_returns.std() * np.sqrt(252))\n",
    "sharpe_ratios"
   ]
  },
  {
   "cell_type": "code",
   "execution_count": null,
   "metadata": {},
   "outputs": [],
   "source": [
    "# Set Portfolio Weights, Calculate Daily and Cumulative Portfolio Returns, and Plot $10,000 Investment Over Time for Optimized Portfolio\n",
    "initial_investment = 10000\n",
    "weights = [.25, .25, .25, .25]\n",
    "candidate_portfolio_returns = daily_returns.dot(weights)\n",
    "candidate_cumulative_returns = (1 + candidate_portfolio_returns).cumprod()\n",
    "candidate_cumulative_profits = (initial_investment * candidate_cumulative_returns)\n",
    "candidate_cumulative_profits.plot(figsize=(20,10), title = \"25% Split Return on $10,000\")"
   ]
  },
  {
   "cell_type": "code",
   "execution_count": null,
   "metadata": {},
   "outputs": [],
   "source": [
    "# Set Portfolio Weights, Calculate Daily and Cumulative Portfolio Returns, and Plot $10,000 Investment Over Time for Uncorrelated Portfolio\n",
    "initial_investment = 10000\n",
    "weights = [0.125, 0.5, 0.2, 0.175]\n",
    "A_correlated_portfolio_returns = daily_returns.dot(weights)\n",
    "A_correlated_cumulative_returns = (1 + A_correlated_portfolio_returns).cumprod()\n",
    "A_correlated_cumulative_profits = (initial_investment * A_correlated_cumulative_returns)\n",
    "A_correlated_cumulative_profits.plot(figsize=(20,10), title = \"A Split Return on $10,000\")"
   ]
  },
  {
   "cell_type": "code",
   "execution_count": null,
   "metadata": {},
   "outputs": [],
   "source": [
    "# Set Portfolio Weights, Calculate Daily and Cumulative Portfolio Returns, and Plot $10,000 Investment Over Time for Optimized Portfolio\n",
    "initial_investment = 10000\n",
    "weights = [.05, .65, .15, .15]\n",
    "B_candidate_portfolio_returns = daily_returns.dot(weights)\n",
    "B_candidate_cumulative_returns = (1 + B_candidate_portfolio_returns).cumprod()\n",
    "B_candidate_cumulative_profits = (initial_investment * B_candidate_cumulative_returns)\n",
    "B_candidate_cumulative_profits.plot(figsize=(20,10), title = \"B Split Return on $10,000\")"
   ]
  },
  {
   "cell_type": "code",
   "execution_count": null,
   "metadata": {},
   "outputs": [],
   "source": [
    "# Set Portfolio Weights, Calculate Daily and Cumulative Portfolio Returns, and Plot $10,000 Investment Over Time for Optimized Portfolio\n",
    "initial_investment = 10000\n",
    "weights = [.01, .85, .04, .1]\n",
    "C_candidate_portfolio_returns = daily_returns.dot(weights)\n",
    "C_candidate_cumulative_returns = (1 + C_candidate_portfolio_returns).cumprod()\n",
    "C_candidate_cumulative_profits = (initial_investment * C_candidate_cumulative_returns)\n",
    "C_candidate_cumulative_profits.plot(figsize=(20,10), title = \"C Split Return on $10,000\")"
   ]
  },
  {
   "cell_type": "code",
   "execution_count": null,
   "metadata": {},
   "outputs": [],
   "source": [
    "# Create a new pivot table where the columns are the closing prices for each ticker\n",
    "combined_df1 = pd.concat([ETCGRecent_Data_df, GBTCRecent_Data_df, GLDRecent_Data_df, SLVRecent_Data_df, SP500Recent_Data_df], axis=\"columns\", join=\"inner\")\n",
    "\n",
    "# Sort datetime index in ascending order (past to present)\n",
    "combined_df1.sort_index(inplace=True)\n",
    "\n",
    "# Display a few rows\n",
    "combined_df1.head()"
   ]
  },
  {
   "cell_type": "code",
   "execution_count": null,
   "metadata": {},
   "outputs": [],
   "source": [
    "# Rename the columns to match the corresponding stock\n",
    "combined_df1.columns = ['ETCG', 'GLD', 'GBTC', 'SLV', 'SP500']\n",
    "combined_df1.head()"
   ]
  },
  {
   "cell_type": "code",
   "execution_count": null,
   "metadata": {},
   "outputs": [],
   "source": [
    "# Use the `pct_change` function to calculate daily returns of closing prices for each column\n",
    "daily_returns1 = combined_df1.pct_change()\n",
    "daily_returns.head()"
   ]
  },
  {
   "cell_type": "code",
   "execution_count": null,
   "metadata": {},
   "outputs": [],
   "source": [
    "# Calculate covariance of all daily returns\n",
    "GBTCcovariance = daily_returns1['GBTC'].cov(daily_returns1['SP500'])\n",
    "\n",
    "ETCGcovariance = daily_returns1['ETCG'].cov(daily_returns1['SP500'])\n",
    "\n",
    "SLVcovariance = daily_returns1['SLV'].cov(daily_returns1['SP500'])\n",
    "\n",
    "GLDcovariance = daily_returns1['GLD'].cov(daily_returns1['SP500'])"
   ]
  },
  {
   "cell_type": "code",
   "execution_count": null,
   "metadata": {},
   "outputs": [],
   "source": [
    "# Calculate variance of all daily returns\n",
    "ETCGvariance = daily_returns1['ETCG'].var()\n",
    "\n",
    "GLDvariance = daily_returns1['GLD'].var()\n",
    "\n",
    "GBTCvariance = daily_returns1['GBTC'].var()\n",
    "\n",
    "SLVvariance = daily_returns1['SLV'].var()"
   ]
  },
  {
   "cell_type": "code",
   "execution_count": null,
   "metadata": {},
   "outputs": [],
   "source": [
    "# Calculate beta of all daily returns of all\n",
    "GBTC_beta = GBTCcovariance / GBTCvariance\n",
    "\n",
    "ETCG_beta = ETCGcovariance / ETCGvariance\n",
    "\n",
    "GLD_beta = GLDcovariance / GLDvariance\n",
    "\n",
    "SLV_beta = SLVcovariance / SLVvariance"
   ]
  },
  {
   "cell_type": "code",
   "execution_count": null,
   "metadata": {},
   "outputs": [],
   "source": [
    "# Calculate 5-day rolling covariance of GBTC vs. S&P 500 and plot the data\n",
    "GBTCrolling_covariance = daily_returns1['GBTC'].rolling(window=5).cov(daily_returns1['SP500'])\n",
    "GBTCrolling_covariance.plot(figsize=(20, 10), title='Rolling 5-Day Covariance of GBTC Returns vs. S&P 500 Returns')"
   ]
  },
  {
   "cell_type": "code",
   "execution_count": null,
   "metadata": {},
   "outputs": [],
   "source": [
    "# Calculate 5-day rolling covariance of ETCG vs. S&P 500 and plot the data\n",
    "ETCGrolling_covariance = daily_returns1['ETCG'].rolling(window=5).cov(daily_returns1['SP500'])\n",
    "ETCGrolling_covariance.plot(figsize=(20, 10), title='Rolling 5-Day Covariance of ETCG Returns vs. S&P 500 Returns')"
   ]
  },
  {
   "cell_type": "code",
   "execution_count": null,
   "metadata": {},
   "outputs": [],
   "source": [
    "# Calculate 5-day rolling covariance of GLD vs. S&P 500 and plot the data\n",
    "GLDrolling_covariance = daily_returns1['GLD'].rolling(window=5).cov(daily_returns1['SP500'])\n",
    "GLDrolling_covariance.plot(figsize=(20, 10), title='Rolling 5-Day Covariance of GLD Returns vs. S&P 500 Returns')"
   ]
  },
  {
   "cell_type": "code",
   "execution_count": null,
   "metadata": {},
   "outputs": [],
   "source": [
    "# Calculate 5-day rolling covariance of SLV vs. S&P 500 and plot the data\n",
    "SLVrolling_covariance = daily_returns1['SLV'].rolling(window=5).cov(daily_returns1['SP500'])\n",
    "SLVrolling_covariance.plot(figsize=(20, 10), title='Rolling 5-Day Covariance of SLV Returns vs. S&P 500 Returns')"
   ]
  },
  {
   "cell_type": "code",
   "execution_count": null,
   "metadata": {},
   "outputs": [],
   "source": [
    "# Showcase beta vs. correlation by plotting a scatterplot using the seaborn library and fitting a regression line\n",
    "import seaborn as sns\n",
    "sns.lmplot(x='SP500', y='GBTC', data=daily_returns1, aspect=1.5, fit_reg=True)"
   ]
  },
  {
   "cell_type": "code",
   "execution_count": null,
   "metadata": {},
   "outputs": [],
   "source": [
    "# Showcase beta vs. correlation by plotting a scatterplot using the seaborn library and fitting a regression line\n",
    "import seaborn as sns\n",
    "sns.lmplot(x='SP500', y='ETCG', data=daily_returns1, aspect=1.5, fit_reg=True)"
   ]
  },
  {
   "cell_type": "code",
   "execution_count": null,
   "metadata": {},
   "outputs": [],
   "source": [
    "# Showcase beta vs. correlation by plotting a scatterplot using the seaborn library and fitting a regression line\n",
    "import seaborn as sns\n",
    "sns.lmplot(x='SP500', y='GLD', data=daily_returns1, aspect=1.5, fit_reg=True)"
   ]
  },
  {
   "cell_type": "code",
   "execution_count": null,
   "metadata": {},
   "outputs": [],
   "source": [
    "# Showcase beta vs. correlation by plotting a scatterplot using the seaborn library and fitting a regression line\n",
    "import seaborn as sns\n",
    "sns.lmplot(x='SP500', y='SLV', data=daily_returns1, aspect=1.5, fit_reg=True)"
   ]
  },
  {
   "cell_type": "code",
   "execution_count": null,
   "metadata": {},
   "outputs": [],
   "source": [
    "daily_returns = combined_df.pct_change()\n",
    "daily_returns.head()"
   ]
  },
  {
   "cell_type": "code",
   "execution_count": null,
   "metadata": {},
   "outputs": [],
   "source": [
    "avg_daily_return = daily_returns.mean()\n",
    "avg_daily_return"
   ]
  },
  {
   "cell_type": "code",
   "execution_count": null,
   "metadata": {},
   "outputs": [],
   "source": [
    "std_dev_daily_return = daily_returns.std()\n",
    "std_dev_daily_return"
   ]
  },
  {
   "cell_type": "code",
   "execution_count": null,
   "metadata": {},
   "outputs": [],
   "source": [
    "# Set number of trading days and simulations and get last closing price of stocks from DataFrame\n",
    "num_trading_days = 100\n",
    "num_simulations = 100\n",
    "GLD_last_price = combined_df['GLD'][-1]\n",
    "GBTC_last_price = combined_df['GBTC'][-1]\n",
    "ETCG_last_price = combined_df['ETCG'][-1]\n",
    "SLV_last_price = combined_df['SLV'][-1]\n",
    "\n",
    "# Initialize empty DataFrame to hold simulated prices for each simulation\n",
    "simulated_price_df = pd.DataFrame()\n",
    "portfolio_cumulative_returns = pd.DataFrame()\n",
    "\n",
    "# Run the simulation of projecting stock prices for the next trading year, `1000` times\n",
    "for n in range(num_simulations):\n",
    "\n",
    "# Initialize the simulated prices list with the last closing price of stocks\n",
    "    simulated_GLD_prices = [GLD_last_price]\n",
    "    simulated_GBTC_prices = [GBTC_last_price]\n",
    "    simulated_ETCG_prices = [ETCG_last_price]\n",
    "    simulated_SLV_prices = [SLV_last_price]\n",
    "\n",
    "    # Simulate the returns for 100 trading days\n",
    "    for i in range(num_trading_days):\n",
    "        \n",
    "        # Calculate the simulated price using the last price within the list then append\n",
    "        GLD_simulated_price = simulated_GLD_prices[-1] * (1 + np.random.normal(avg_daily_return[0], std_dev_daily_return[0]))\n",
    "        simulated_GLD_prices.append(GLD_simulated_price)\n",
    "    \n",
    "        GBTC_simulated_price = simulated_GBTC_prices[-1] * (1 + np.random.normal(avg_daily_return[1], std_dev_daily_return[1]))\n",
    "        simulated_GBTC_prices.append(GBTC_simulated_price)\n",
    "    \n",
    "        ETCG_simulated_price = simulated_ETCG_prices[-1] * (1 + np.random.normal(avg_daily_return[2], std_dev_daily_return[2]))\n",
    "        simulated_ETCG_prices.append(ETCG_simulated_price)\n",
    "    \n",
    "        SLV_simulated_price = simulated_SLV_prices[-1] * (1 + np.random.normal(avg_daily_return[3], std_dev_daily_return[3]))\n",
    "        simulated_SLV_prices.append(SLV_simulated_price)\n",
    "       \n",
    "    # Append a simulated prices of each simulation to DataFrame\n",
    "    simulated_price_df = pd.DataFrame({\n",
    "        \"Simulated GLD Prices\": simulated_GLD_prices,\n",
    "        \"Simulated GBTC Prices\": simulated_GBTC_prices,\n",
    "        \"Simulated ETCG Prices\": simulated_ETCG_prices,\n",
    "        \"Simulated SLV Prices\": simulated_SLV_prices\n",
    "        })\n",
    "    \n",
    "    # Calculate the daily returns of simulated prices\n",
    "    simulated_daily_returns = simulated_price_df.pct_change()\n",
    "    \n",
    "    # Set the portfolio weights \n",
    "    weights = [0.25, 0.25, 0.25, 0.25]\n",
    "\n",
    "    # Use the `dot` function with the weights to multiply weights with each column's simulated daily returns\n",
    "    portfolio_daily_returns = simulated_daily_returns.dot(weights)\n",
    "    \n",
    "    # Calculate the normalized, cumulative return series\n",
    "    portfolio_cumulative_returns[n] = (1 + portfolio_daily_returns.fillna(0)).cumprod()\n",
    "\n",
    "## Print records from the DataFrame\n",
    "portfolio_cumulative_returns.head()"
   ]
  },
  {
   "cell_type": "code",
   "execution_count": null,
   "metadata": {},
   "outputs": [],
   "source": [
    "# Use the `plot` function to plot `100` simulations of the potential trajectories of the portfolio based on 100 trading days\n",
    "plot_title = f\"{n+1} Simulations of Cumulative Portfolio Return Trajectories Over the Next 100 Trading Days\"\n",
    "portfolio_cumulative_returns.plot(legend=None, title=plot_title)"
   ]
  },
  {
   "cell_type": "code",
   "execution_count": null,
   "metadata": {},
   "outputs": [],
   "source": [
    "ending_cumulative_returns = portfolio_cumulative_returns.iloc[-1, :]\n",
    "ending_cumulative_returns.head()"
   ]
  },
  {
   "cell_type": "code",
   "execution_count": null,
   "metadata": {},
   "outputs": [],
   "source": [
    "# Use the `plot` function to plot a frequency distribution of simulated ending prices\n",
    "ending_cumulative_returns.plot(kind='hist', bins=10)"
   ]
  },
  {
   "cell_type": "code",
   "execution_count": null,
   "metadata": {},
   "outputs": [],
   "source": [
    "# Use the `value_counts` function and the `len` function to calculate the probabilities of cumulative return ranges\n",
    "ending_cumulative_returns.value_counts(bins=10) / len(ending_cumulative_returns)"
   ]
  },
  {
   "cell_type": "code",
   "execution_count": null,
   "metadata": {},
   "outputs": [],
   "source": [
    "# Use the `quantile` function to calculate the 95% confidence interval for simulated ending prices\n",
    "confidence_interval = ending_cumulative_returns.quantile(q=[0.025, 0.975])\n",
    "confidence_interval"
   ]
  },
  {
   "cell_type": "code",
   "execution_count": null,
   "metadata": {},
   "outputs": [],
   "source": [
    "# Use the `plot` function to create a probability distribution histogram of simulated ending prices\n",
    "# with markings for a 95% confidence interval\n",
    "plt.figure();\n",
    "ending_cumulative_returns.plot(kind='hist', density=True, bins=10)\n",
    "plt.axvline(confidence_interval.iloc[0], color='r')\n",
    "plt.axvline(confidence_interval.iloc[1], color='r')"
   ]
  },
  {
   "cell_type": "code",
   "execution_count": null,
   "metadata": {},
   "outputs": [],
   "source": [
    "# Set initial investment\n",
    "initial_investment = 10000\n",
    "\n",
    "# Calculate investment profit/loss of lower and upper bound cumulative portfolio returns\n",
    "investment_pnl_lower_bound = initial_investment * confidence_interval.iloc[0]\n",
    "investment_pnl_upper_bound = initial_investment * confidence_interval.iloc[1]\n",
    "                                                    \n",
    "# Print the results\n",
    "print(f\"There is a 95% chance that an initial investment of $10,000 in the portfolio\"\n",
    "      f\" over the next 100 trading days will end within in the range of\"\n",
    "      f\" ${investment_pnl_lower_bound} and ${investment_pnl_upper_bound}\")"
   ]
  }
 ],
 "metadata": {
  "kernelspec": {
   "display_name": "Python (Viz)",
   "language": "python",
   "name": "viz"
  },
  "language_info": {
   "codemirror_mode": {
    "name": "ipython",
    "version": 3
   },
   "file_extension": ".py",
   "mimetype": "text/x-python",
   "name": "python",
   "nbconvert_exporter": "python",
   "pygments_lexer": "ipython3",
   "version": "3.7.7"
  }
 },
 "nbformat": 4,
 "nbformat_minor": 4
}
