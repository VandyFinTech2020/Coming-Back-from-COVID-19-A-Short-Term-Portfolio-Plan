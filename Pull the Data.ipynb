{
 "cells": [
  {
   "cell_type": "code",
   "execution_count": 7,
   "metadata": {
    "collapsed": true,
    "jupyter": {
     "outputs_hidden": true
    }
   },
   "outputs": [
    {
     "name": "stdout",
     "output_type": "stream",
     "text": [
      "  portfolio_name  weight  close_date  close_price ticker_name  covidineffect\n",
      "0           food    0.25  2019-02-19        41.85         ADM          False\n",
      "1           food    0.25  2019-02-20        41.97         ADM          False\n",
      "2           food    0.25  2019-02-21        42.57         ADM          False\n",
      "3           food    0.25  2019-02-22        42.49         ADM          False\n",
      "4           food    0.25  2019-02-25        42.43         ADM          False\n"
     ]
    }
   ],
   "source": [
    "import numpy as np\n",
    "import pandas as pd\n",
    "from sqlalchemy import create_engine\n",
    "\n",
    "# connectionString = \"dbname='project01' user='pgadmin@fintech-postgres' host='fintech-postgres.postgres.database.azure.com' password='CgYRz!)[4pfB' port='5432' sslmode='true'\"\n",
    "\n",
    "engine = create_engine(\n",
    "    \"postgresql://pgadmin@fintech-postgres:CgYRz!)[4pfB@fintech-postgres.postgres.database.azure.com:5432/project01\")\n",
    "\n",
    "query = \"\"\"\n",
    "select portfolio_name, weight, \"date\" as close_date,\n",
    "\tclose_price, ticker_name, covidineffect\n",
    "from portfolio p\n",
    "    inner join portfolio_tickers pt\n",
    "\ton p.portfolio_id = pt.portfolio_id\n",
    "\tinner join price\n",
    "\ton pt.ticker_id = price.ticker_id\n",
    ";\"\"\"\n",
    "\n",
    "df = pd.read_sql(query, engine)\n",
    "print(df.head())"
   ]
  },
  {
   "cell_type": "code",
   "execution_count": null,
   "metadata": {},
   "outputs": [],
   "source": [
    "df[\"porttick\"] = df[\"portfolio_name\"] + \"-\" + df[\"ticker_name\"]\n",
    "df.head()"
   ]
  },
  {
   "cell_type": "code",
   "execution_count": null,
   "metadata": {},
   "outputs": [],
   "source": [
    "query = \"select * from portfolio\"\n",
    "dfPortfolio = pd.read_sql(query, engine)\n",
    "\n",
    "for _, row in dfPortfolio.iterrows():\n",
    "    dfMine = df.loc[df[\"portfolio_name\"]==row[\"portfolio_name\"]]\n",
    "    print(dfMine.head(1))"
   ]
  },
  {
   "cell_type": "code",
   "execution_count": 17,
   "metadata": {
    "collapsed": true,
    "jupyter": {
     "outputs_hidden": true
    }
   },
   "outputs": [
    {
     "name": "stdout",
     "output_type": "stream",
     "text": [
      "porttick    food-ADM  food-CAG  food-HRL  food-TSN\n",
      "close_date                                        \n",
      "2019-02-19     41.85     24.01     43.30     62.94\n",
      "2019-02-20     41.97     24.03     43.13     63.60\n",
      "2019-02-21     42.57     24.07     41.99     63.06\n",
      "2019-02-22     42.49     23.38     42.91     63.32\n",
      "2019-02-25     42.43     23.31     42.53     62.32\n"
     ]
    }
   ],
   "source": [
    "    dfCovidNo = dfMine.loc[dfMine[\"covidineffect\"] == False]\n",
    "    dfCovidNoPivot = dfCovidNo.pivot(index=\"close_date\", columns='porttick', values=\"close_price\")\n",
    "    print(dfCovidNoPivot.head())"
   ]
  },
  {
   "cell_type": "code",
   "execution_count": 18,
   "metadata": {},
   "outputs": [
    {
     "name": "stdout",
     "output_type": "stream",
     "text": [
      "porttick    food-ADM  food-CAG  food-HRL  food-TSN\n",
      "close_date                                        \n",
      "2019-02-19     41.85     24.01     43.30     62.94\n",
      "2019-02-20     41.97     24.03     43.13     63.60\n",
      "2019-02-21     42.57     24.07     41.99     63.06\n",
      "2019-02-22     42.49     23.38     42.91     63.32\n",
      "2019-02-25     42.43     23.31     42.53     62.32\n"
     ]
    }
   ],
   "source": [
    "    dfCovid = dfMine.loc[dfMine[\"covidineffect\"] == True]\n",
    "    dfCovidPivot = dfCovid.pivot(index=\"close_date\", columns='porttick', values=\"close_price\")\n",
    "    print(dfCovidPivot.head())"
   ]
  },
  {
   "cell_type": "code",
   "execution_count": null,
   "metadata": {
    "collapsed": true,
    "jupyter": {
     "outputs_hidden": true
    }
   },
   "outputs": [],
   "source": []
  }
 ],
 "metadata": {
  "kernelspec": {
   "display_name": "Python (Viz)",
   "language": "python",
   "name": "viz"
  },
  "language_info": {
   "codemirror_mode": {
    "name": "ipython",
    "version": 3
   },
   "file_extension": ".py",
   "mimetype": "text/x-python",
   "name": "python",
   "nbconvert_exporter": "python",
   "pygments_lexer": "ipython3",
   "version": "3.7.7"
  }
 },
 "nbformat": 4,
 "nbformat_minor": 4
}
