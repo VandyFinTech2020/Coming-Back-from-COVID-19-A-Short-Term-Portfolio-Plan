{
 "cells": [
  {
   "cell_type": "markdown",
   "metadata": {},
   "source": [
    "# Functions for retrieving data, making basic calculations, and running Monte Carlo simulations"
   ]
  },
  {
   "cell_type": "markdown",
   "metadata": {},
   "source": [
    "## See [Basic usage](#Basic-usage) below if you just want to see how to use the module and don't care to read the code."
   ]
  },
  {
   "cell_type": "markdown",
   "metadata": {},
   "source": [
    "### Imports"
   ]
  },
  {
   "cell_type": "code",
   "execution_count": null,
   "metadata": {},
   "outputs": [],
   "source": [
    "import pandas as pd\n",
    "from pathlib import Path\n",
    "import numpy as np\n",
    "import datetime as dt\n",
    "from pathlib import Path\n",
    "import os\n",
    "from datetime import datetime, timedelta"
   ]
  },
  {
   "cell_type": "code",
   "execution_count": null,
   "metadata": {},
   "outputs": [],
   "source": [
    "from sqlalchemy import create_engine"
   ]
  },
  {
   "cell_type": "code",
   "execution_count": null,
   "metadata": {},
   "outputs": [],
   "source": [
    "np.random.seed(42)"
   ]
  },
  {
   "cell_type": "markdown",
   "metadata": {},
   "source": [
    "### Connect to DB"
   ]
  },
  {
   "cell_type": "code",
   "execution_count": null,
   "metadata": {},
   "outputs": [],
   "source": [
    "# connectionString = \"dbname='project01' user='pgadmin@fintech-postgres' host='fintech-postgres.postgres.database.azure.com' password='CgYRz!)[4pfB' port='5432' sslmode='true'\"\n",
    "engine = create_engine(\n",
    "    \"postgresql://pgadmin@fintech-postgres:CgYRz!)[4pfB@fintech-postgres.postgres.database.azure.com:5432/project01\")"
   ]
  },
  {
   "cell_type": "markdown",
   "metadata": {},
   "source": [
    "### Functions definitions"
   ]
  },
  {
   "cell_type": "code",
   "execution_count": null,
   "metadata": {},
   "outputs": [],
   "source": [
    "def get_portfolio_daily_returns(portfolio_name, *, covid_phase):\n",
    "    '''\n",
    "    portfolio_name := string,\n",
    "    covid_phase := boolean (whether to include data including dates 2/19/20 - 4/29/20)\n",
    "    \n",
    "    Query the postgres db.\n",
    "    Run basic calculations.\n",
    "    \n",
    "    Return DF of portfolio daily returns that will be used in the rest of the analysis.\n",
    "    '''\n",
    "    \n",
    "    q = f'''\n",
    "        select portfolio_name, weight, \"date\" as close_date, \n",
    "            close_price, ticker_name, covidineffect \n",
    "        from portfolio p\n",
    "            inner join portfolio_tickers pt\n",
    "            on p.portfolio_id = pt.portfolio_id\n",
    "            inner join price\n",
    "            on pt.ticker_id = price.ticker_id\n",
    "        where price.covidineffect = {covid_phase} and p.portfolio_name = '{portfolio_name}'\n",
    "        '''\n",
    "    portfolio_df = pd.read_sql(q, engine)\n",
    "    \n",
    "    # Pivot the table so dates are index\n",
    "    portfolio_df = portfolio_df.pivot(index='close_date', columns='ticker_name', values='close_price')\n",
    "    \n",
    "    daily_returns = portfolio_df.pct_change()\n",
    "    \n",
    "    daily_returns = daily_returns.dropna()\n",
    "    \n",
    "    return daily_returns"
   ]
  },
  {
   "cell_type": "code",
   "execution_count": null,
   "metadata": {},
   "outputs": [],
   "source": [
    "def portfolio_figures(pf_daily_returns):\n",
    "    '''\n",
    "    Returns tuple(last_close_price, returns_mean, returns_std)\n",
    "    which can be passed in directly to `run_simulations`.\n",
    "    '''\n",
    "    return pf_daily_returns.iloc[-1], pf_daily_returns.mean(), pf_daily_returns.std()"
   ]
  },
  {
   "cell_type": "code",
   "execution_count": null,
   "metadata": {},
   "outputs": [],
   "source": [
    "def run_simulations(pf_figures, num_records, num_simulations):\n",
    "    '''\n",
    "    pf_data := tuple(last_close_prices, returns_means, returns_stds)\n",
    "    \n",
    "    Runs `num_simulations` Monte Carlo simulations each of `num_records`.\n",
    "    \n",
    "    Returns DF of cumulative returns\n",
    "    '''\n",
    "    \n",
    "    monte_carlo_cum_returns_df = pd.DataFrame()\n",
    "    \n",
    "    last_close_prices, returns_means, returns_stds = pf_figures\n",
    "    \n",
    "    for m in range(num_simulations):\n",
    "        simulated_prices_all = [[price] for price in last_close_prices]\n",
    "        \n",
    "        for _ in range(num_records):\n",
    "            \n",
    "            for i, prices in enumerate(simulated_prices_all):\n",
    "                sim_price = prices[-1] * (1 + np.random.normal(returns_means[i], returns_stds[i]))\n",
    "                prices.append(sim_price)\n",
    "\n",
    "        monte_carlo_price_df = pd.DataFrame(dict(zip(last_close_prices.index, simulated_prices_all)))\n",
    "\n",
    "        sim_daily_returns = monte_carlo_price_df.pct_change()\n",
    "\n",
    "        weighted_returns = sim_daily_returns.dot([0.25] * 4)\n",
    "\n",
    "        monte_carlo_cum_returns_df[m] = (1 + weighted_returns.fillna(0)).cumprod()\n",
    "    \n",
    "    return monte_carlo_cum_returns_df"
   ]
  },
  {
   "cell_type": "markdown",
   "metadata": {},
   "source": [
    "## Basic usage\n",
    "\n",
    "The main functionality here is wrapped in 3 functions: `get_portfolio_daily_returns`, `portfolio_figures`, and `run_simulations`. You can run `portfolio_figures?` to view the doc string or just scroll up and look over the function definition."
   ]
  },
  {
   "cell_type": "markdown",
   "metadata": {},
   "source": [
    "### Examples"
   ]
  },
  {
   "cell_type": "markdown",
   "metadata": {},
   "source": [
    "Suppose we want to compare the cumulative returns of the 5 portfolios using just the data before COVID.\n",
    "Here's how we could get those data:"
   ]
  },
  {
   "cell_type": "code",
   "execution_count": null,
   "metadata": {},
   "outputs": [],
   "source": [
    "# List of portfolios\n",
    "portfolios = ['pharma', 'food', 'communication', 'hedge', 'financial']\n",
    "\n",
    "# Dictionary for storing the results of the simulations\n",
    "sim_results = dict.fromkeys(portfolios)\n",
    "\n",
    "# Do the simulations and store results\n",
    "for pf in portfolios:\n",
    "    # covid=False here since we don't want data after 2/19/2020\n",
    "    # Also notice the keyword `covid` is required here\n",
    "    pf_returns = get_portfolio_daily_returns(pf, covid_phase=False)\n",
    "    pf_figures = portfolio_figures(pf_returns)\n",
    "    pf_sims = run_simulations(pf_figures, 30, 1) # 30 records, 1 simulation\n",
    "    sim_results[pf] = pf_sims"
   ]
  },
  {
   "cell_type": "code",
   "execution_count": null,
   "metadata": {},
   "outputs": [],
   "source": [
    "# Results of one of the portfolios\n",
    "pharma_sim_results = sim_results['pharma']\n",
    "pharma_sim_results.tail()"
   ]
  },
  {
   "cell_type": "markdown",
   "metadata": {},
   "source": [
    "If we just want to get the (actual) daily returns of a portfolio, we can do that easily."
   ]
  },
  {
   "cell_type": "code",
   "execution_count": null,
   "metadata": {},
   "outputs": [],
   "source": [
    "financial_pf_real_daily_returns = get_portfolio_daily_returns('financial', covid_phase=False)\n",
    "financial_pf_real_daily_returns.head()"
   ]
  },
  {
   "cell_type": "markdown",
   "metadata": {},
   "source": [
    "Find the covariance of a stock:"
   ]
  },
  {
   "cell_type": "code",
   "execution_count": null,
   "metadata": {},
   "outputs": [],
   "source": [
    "# BAC daily returns\n",
    "bac = financial_pf_real_daily_returns['BAC']\n",
    "\n",
    "# S&P 500 real returns\n",
    "sp500_real_daily_returns = get_portfolio_daily_returns('S&P500', covid_phase=False)\n",
    "\n",
    "# BAC covariance\n",
    "bac.cov(sp500_real_daily_returns['SP500'])"
   ]
  },
  {
   "cell_type": "markdown",
   "metadata": {},
   "source": [
    "## Tests"
   ]
  },
  {
   "cell_type": "code",
   "execution_count": null,
   "metadata": {},
   "outputs": [],
   "source": [
    "# Tests here\n"
   ]
  },
  {
   "cell_type": "code",
   "execution_count": null,
   "metadata": {},
   "outputs": [],
   "source": []
  }
 ],
 "metadata": {
  "kernelspec": {
   "display_name": "Python (Viz)",
   "language": "python",
   "name": "viz"
  },
  "language_info": {
   "codemirror_mode": {
    "name": "ipython",
    "version": 3
   },
   "file_extension": ".py",
   "mimetype": "text/x-python",
   "name": "python",
   "nbconvert_exporter": "python",
   "pygments_lexer": "ipython3",
   "version": "3.7.7"
  }
 },
 "nbformat": 4,
 "nbformat_minor": 4
}
