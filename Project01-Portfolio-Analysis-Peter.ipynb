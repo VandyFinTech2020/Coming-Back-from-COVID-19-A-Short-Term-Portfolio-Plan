{
 "cells": [
  {
   "cell_type": "code",
   "execution_count": 99,
   "metadata": {},
   "outputs": [],
   "source": [
    "import pandas as pd\n",
    "from pathlib import Path\n",
    "import numpy as np\n",
    "import datetime as dt\n",
    "from pathlib import Path\n",
    "import os\n",
    "from datetime import datetime, timedelta"
   ]
  },
  {
   "cell_type": "code",
   "execution_count": 106,
   "metadata": {},
   "outputs": [],
   "source": [
    "from sqlalchemy import create_engine"
   ]
  },
  {
   "cell_type": "code",
   "execution_count": null,
   "metadata": {},
   "outputs": [],
   "source": [
    "# create a connection to the database using the create_engine function\n",
    "engine = create_engine(f\"postgresql://postgres:{pg_username}@{pg_host}:5432/{pg_db_name}\")"
   ]
  },
  {
   "cell_type": "code",
   "execution_count": 100,
   "metadata": {},
   "outputs": [],
   "source": [
    "np.random.seed(42)"
   ]
  },
  {
   "cell_type": "code",
   "execution_count": 102,
   "metadata": {},
   "outputs": [],
   "source": [
    "comm_feb_csv = Path('comm_feb.csv')\n",
    "fin_feb_csv = Path('fin_feb.csv')\n",
    "food_feb_csv = Path('food_feb.csv')\n",
    "hedge_feb_csv = Path('hedge_feb.csv')\n",
    "pharma_feb_csv = Path('pharma_feb.csv')\n",
    "sp500_feb_csv = Path('sp500_feb.csv')\n",
    "\n",
    "comm_apr_csv = Path('comm_apr.csv')\n",
    "fin_apr_csv = Path('fin_apr.csv')\n",
    "food_apr_csv = Path('food_apr.csv')\n",
    "hedge_apr_csv = Path('hedge_apr.csv')\n",
    "pharma_apr_csv = Path('pharma_apr.csv')\n",
    "sp500_apr_csv = Path('sp500_apr.csv')\n",
    "\n",
    "\n",
    "comm_feb_df = pd.read_csv(comm_feb_csv, index_col=\"Date\", infer_datetime_format=True, parse_dates=True)\n",
    "fin_feb_df = pd.read_csv(fin_feb_csv, index_col=\"Date\", infer_datetime_format=True, parse_dates=True)\n",
    "food_feb_df = pd.read_csv(food_feb_csv, index_col=\"Date\", infer_datetime_format=True, parse_dates=True)\n",
    "hedge_feb_df = pd.read_csv(hedge_feb_csv, index_col=\"Date\", infer_datetime_format=True, parse_dates=True)\n",
    "pharma_feb_df = pd.read_csv(hedge_feb_csv, index_col=\"Date\", infer_datetime_format=True, parse_dates=True)\n",
    "sp500_feb_df = pd.read_csv(sp500_feb_csv, index_col=\"Date\", infer_datetime_format=True, parse_dates=True)\n",
    "\n",
    "comm_apr_df = pd.read_csv(comm_apr_csv, index_col=\"Date\", infer_datetime_format=True, parse_dates=True)\n",
    "fin_apr_df = pd.read_csv(fin_apr_csv, index_col=\"Date\", infer_datetime_format=True, parse_dates=True)\n",
    "food_apr_df = pd.read_csv(food_apr_csv, index_col=\"Date\", infer_datetime_format=True, parse_dates=True)\n",
    "hedge_apr_df = pd.read_csv(hedge_apr_csv, index_col=\"Date\", infer_datetime_format=True, parse_dates=True)\n",
    "pharma_apr_df = pd.read_csv(hedge_apr_csv, index_col=\"Date\", infer_datetime_format=True, parse_dates=True)\n",
    "sp500_apr_df = pd.read_csv(sp500_apr_csv, index_col=\"Date\", infer_datetime_format=True, parse_dates=True)\n",
    "\n",
    "# Change SP500 field 'close' to 'SP500' so it's easier to read in the combined DF\n",
    "sp500_feb_df.rename(columns={'Close': 'SP500'}, inplace=True)\n",
    "sp500_apr_df.rename(columns={'Close': 'SP500'}, inplace=True)"
   ]
  },
  {
   "cell_type": "code",
   "execution_count": 103,
   "metadata": {},
   "outputs": [],
   "source": [
    "##Daily Returns\n",
    "comm_feb_returns = comm_feb_df.pct_change()\n",
    "fin_feb_returns = fin_feb_df.pct_change()\n",
    "food_feb_returns = food_feb_df.pct_change()\n",
    "hedge_feb_returns = hedge_feb_df.pct_change()\n",
    "pharma_feb_returns = pharma_feb_df.pct_change()\n",
    "sp500_feb_returns = sp500_feb_df.pct_change()\n",
    "\n",
    "comm_apr_returns = comm_apr_df.pct_change()\n",
    "fin_apr_returns = fin_apr_df.pct_change()\n",
    "food_apr_returns = food_apr_df.pct_change()\n",
    "hedge_apr_returns = hedge_apr_df.pct_change()\n",
    "pharma_apr_returns = pharma_apr_df.pct_change()\n",
    "sp500_apr_returns = sp500_apr_df.pct_change()\n",
    "\n",
    "#Drop nulls\n",
    "comm_feb_ret = comm_feb_returns.dropna()\n",
    "fin_feb_ret = fin_feb_returns.dropna()\n",
    "food_feb_ret = food_feb_returns.dropna()\n",
    "hedge_feb_ret = hedge_feb_returns.dropna()\n",
    "pharma_feb_ret = pharma_feb_returns.dropna()\n",
    "sp500_feb_ret = sp500_feb_returns.dropna()\n",
    "\n",
    "comm_apr_ret = comm_apr_returns.dropna()\n",
    "fin_apr_ret = fin_apr_returns.dropna()\n",
    "food_apr_ret = food_apr_returns.dropna()\n",
    "hedge_apr_ret = hedge_apr_returns.dropna()\n",
    "pharma_apr_ret = pharma_apr_returns.dropna()\n",
    "sp500_apr_ret = sp500_apr_returns.dropna()\n",
    "\n",
    "comm_feb_ret = comm_feb_ret.loc[comm_feb_ret.index.dropna()]\n",
    "fin_feb_ret = fin_feb_ret.loc[fin_feb_ret.index.dropna()]\n",
    "food_feb_ret = food_feb_ret.loc[food_feb_ret.index.dropna()]\n",
    "hedge_feb_ret = hedge_feb_ret.loc[hedge_feb_ret.index.dropna()]\n",
    "pharma_feb_ret = pharma_feb_ret.loc[pharma_feb_ret.index.dropna()]\n",
    "sp500_feb_ret = sp500_feb_ret.loc[sp500_feb_ret.index.dropna()]\n",
    "\n",
    "comm_apr_ret = comm_apr_ret.loc[comm_apr_ret.index.dropna()]\n",
    "fin_apr_ret = fin_apr_ret.loc[fin_apr_ret.index.dropna()]\n",
    "food_apr_ret = food_apr_ret.loc[food_apr_ret.index.dropna()]\n",
    "hedge_apr_ret = hedge_apr_ret.loc[hedge_apr_ret.index.dropna()]\n",
    "pharma_apr_ret = pharma_apr_ret.loc[pharma_apr_ret.index.dropna()]\n",
    "sp500_apr_ret = sp500_apr_ret.loc[sp500_apr_ret.index.dropna()]"
   ]
  },
  {
   "cell_type": "code",
   "execution_count": 114,
   "metadata": {},
   "outputs": [
    {
     "data": {
      "text/html": [
       "<div>\n",
       "<style scoped>\n",
       "    .dataframe tbody tr th:only-of-type {\n",
       "        vertical-align: middle;\n",
       "    }\n",
       "\n",
       "    .dataframe tbody tr th {\n",
       "        vertical-align: top;\n",
       "    }\n",
       "\n",
       "    .dataframe thead th {\n",
       "        text-align: right;\n",
       "    }\n",
       "</style>\n",
       "<table border=\"1\" class=\"dataframe\">\n",
       "  <thead>\n",
       "    <tr style=\"text-align: right;\">\n",
       "      <th></th>\n",
       "      <th>CHTR</th>\n",
       "      <th>CMCSA</th>\n",
       "      <th>T</th>\n",
       "      <th>VZ</th>\n",
       "    </tr>\n",
       "    <tr>\n",
       "      <th>Date</th>\n",
       "      <th></th>\n",
       "      <th></th>\n",
       "      <th></th>\n",
       "      <th></th>\n",
       "    </tr>\n",
       "  </thead>\n",
       "  <tbody>\n",
       "    <tr>\n",
       "      <th>2020-02-12</th>\n",
       "      <td>0.005763</td>\n",
       "      <td>0.027461</td>\n",
       "      <td>-0.003406</td>\n",
       "      <td>-0.007838</td>\n",
       "    </tr>\n",
       "    <tr>\n",
       "      <th>2020-02-13</th>\n",
       "      <td>0.001367</td>\n",
       "      <td>0.001086</td>\n",
       "      <td>0.007098</td>\n",
       "      <td>0.007213</td>\n",
       "    </tr>\n",
       "    <tr>\n",
       "      <th>2020-02-14</th>\n",
       "      <td>0.000299</td>\n",
       "      <td>0.000434</td>\n",
       "      <td>-0.001566</td>\n",
       "      <td>-0.002387</td>\n",
       "    </tr>\n",
       "    <tr>\n",
       "      <th>2020-02-18</th>\n",
       "      <td>0.005066</td>\n",
       "      <td>0.001302</td>\n",
       "      <td>0.000261</td>\n",
       "      <td>-0.010255</td>\n",
       "    </tr>\n",
       "    <tr>\n",
       "      <th>2020-02-19</th>\n",
       "      <td>0.009040</td>\n",
       "      <td>-0.003900</td>\n",
       "      <td>0.004705</td>\n",
       "      <td>0.005353</td>\n",
       "    </tr>\n",
       "  </tbody>\n",
       "</table>\n",
       "</div>"
      ],
      "text/plain": [
       "                CHTR     CMCSA         T        VZ\n",
       "Date                                              \n",
       "2020-02-12  0.005763  0.027461 -0.003406 -0.007838\n",
       "2020-02-13  0.001367  0.001086  0.007098  0.007213\n",
       "2020-02-14  0.000299  0.000434 -0.001566 -0.002387\n",
       "2020-02-18  0.005066  0.001302  0.000261 -0.010255\n",
       "2020-02-19  0.009040 -0.003900  0.004705  0.005353"
      ]
     },
     "execution_count": 114,
     "metadata": {},
     "output_type": "execute_result"
    }
   ],
   "source": [
    "comm_feb_ret.tail()"
   ]
  },
  {
   "cell_type": "code",
   "execution_count": 104,
   "metadata": {},
   "outputs": [],
   "source": [
    "#Combined Pre-COVID-19 ('feb') portfolios and  Post-COVID-19 ('apr') portfolios \n",
    "combined_feb_df = pd.concat([comm_feb_ret, fin_feb_ret, food_feb_ret, hedge_feb_ret, pharma_feb_ret, sp500_feb_ret], axis=\"columns\", join=\"inner\")\n",
    "# combined_apr_df = pd.merge([comm_apr_ret, fin_apr_ret, food_apr_ret, hedge_apr_ret, pharma_apr_ret, sp500_apr_ret], axis=\"columns\", join=\"inner\")\n",
    "combined_apr_df = pd.concat([comm_apr_ret, fin_apr_ret, food_apr_ret, hedge_apr_ret, pharma_apr_ret, sp500_apr_ret], axis=\"columns\", join=\"inner\")"
   ]
  },
  {
   "cell_type": "code",
   "execution_count": 105,
   "metadata": {},
   "outputs": [
    {
     "data": {
      "text/plain": [
       "301"
      ]
     },
     "execution_count": 105,
     "metadata": {},
     "output_type": "execute_result"
    }
   ],
   "source": [
    "len(combined_apr_df)"
   ]
  },
  {
   "cell_type": "code",
   "execution_count": 119,
   "metadata": {},
   "outputs": [],
   "source": [
    "def get_stock_data(ticker):\n",
    "    '''\n",
    "    ticker := string\n",
    "    \n",
    "    Query the postgres db.\n",
    "    Run basic calculations.\n",
    "    \n",
    "    Return stock data that will be passed into `run_simulations`.\n",
    "    '''\n",
    "    \n",
    "    # Query the DB:\n",
    "    # q = f'SELECT * FROM ... WHERE stock.ticker = {ticker}'\n",
    "    # df = pd.read_sql(q)\n",
    "    stock_df = comm_feb_df['CHTR'] # Pretend we got this from the DB\n",
    "    \n",
    "    # This part comes from the cleaning up we did a few cells up.\n",
    "    stock_df.rename(columns={'Close': 'SP500'}, inplace=True)\n",
    "    stock_returns = stock_df.pct_change()\n",
    "    stock_returns = stock_returns.dropna()\n",
    "    # Drop NaT in index\n",
    "    stock_returns = stock_returns.loc[comm_feb_ret.index.dropna()]\n",
    "    \n",
    "    stock_data = stock_returns[-1], stock_returns.mean(), stock_returns.std()\n",
    "    \n",
    "    return stock_data"
   ]
  },
  {
   "cell_type": "code",
   "execution_count": 125,
   "metadata": {},
   "outputs": [],
   "source": [
    "def run_simulations(stock_data, num_records, num_simulations):\n",
    "    '''\n",
    "    stock_data := tuple(last_close_price, returns_mean, returns_std)\n",
    "    \n",
    "    Runs `num_simulations` Monte Carlo simulations each of `num_records`.\n",
    "    \n",
    "    Returns DF of cumulative returns\n",
    "    '''\n",
    "    \n",
    "    monte_carlo_price_df = pd.DataFrame()\n",
    "    monte_carlo_cum_returns_df = pd.DataFrame()\n",
    "    \n",
    "    last_close_price, returns_mean, returns_std = stock_data\n",
    "    \n",
    "    for m in range(num_simulations):\n",
    "        simulated_prices = [last_close_price]\n",
    "        \n",
    "        for _ in range(num_records):\n",
    "            simulated_price = simulated_prices[-1] * (1 + np.random.normal(returns_mean, returns_std))\n",
    "            \n",
    "            simulated_prices.append(simulated_price)\n",
    "            \n",
    "        monte_carlo_price_df['Prices'] = pd.Series(simulated_prices)\n",
    "\n",
    "        daily_returns = monte_carlo_price_df.pct_change()\n",
    "\n",
    "        weighted_returns = daily_returns.dot([0.25] * 4)\n",
    "\n",
    "        monte_carlo_cum_returns_df[m] = (1 + weighted_returns.fillna(0)).cumprod()\n",
    "    \n",
    "    return monte_carlo_cum_returns_df"
   ]
  },
  {
   "cell_type": "code",
   "execution_count": 126,
   "metadata": {},
   "outputs": [
    {
     "ename": "ValueError",
     "evalue": "Dot product shape mismatch, (11, 1) vs (4,)",
     "output_type": "error",
     "traceback": [
      "\u001b[0;31m---------------------------------------------------------------------------\u001b[0m",
      "\u001b[0;31mValueError\u001b[0m                                Traceback (most recent call last)",
      "\u001b[0;32m<ipython-input-126-2d80d71b9f43>\u001b[0m in \u001b[0;36m<module>\u001b[0;34m\u001b[0m\n\u001b[0;32m----> 1\u001b[0;31m \u001b[0mrun_simulations\u001b[0m\u001b[0;34m(\u001b[0m\u001b[0mget_stock_data\u001b[0m\u001b[0;34m(\u001b[0m\u001b[0;34m'asdf'\u001b[0m\u001b[0;34m)\u001b[0m\u001b[0;34m,\u001b[0m \u001b[0;36m10\u001b[0m\u001b[0;34m,\u001b[0m \u001b[0;36m252\u001b[0m\u001b[0;34m)\u001b[0m\u001b[0;34m\u001b[0m\u001b[0;34m\u001b[0m\u001b[0m\n\u001b[0m",
      "\u001b[0;32m<ipython-input-125-7ff067af95f0>\u001b[0m in \u001b[0;36mrun_simulations\u001b[0;34m(stock_data, num_records, num_simulations)\u001b[0m\n\u001b[1;32m     25\u001b[0m         \u001b[0mdaily_returns\u001b[0m \u001b[0;34m=\u001b[0m \u001b[0mmonte_carlo_price_df\u001b[0m\u001b[0;34m.\u001b[0m\u001b[0mpct_change\u001b[0m\u001b[0;34m(\u001b[0m\u001b[0;34m)\u001b[0m\u001b[0;34m\u001b[0m\u001b[0;34m\u001b[0m\u001b[0m\n\u001b[1;32m     26\u001b[0m \u001b[0;34m\u001b[0m\u001b[0m\n\u001b[0;32m---> 27\u001b[0;31m         \u001b[0mweighted_returns\u001b[0m \u001b[0;34m=\u001b[0m \u001b[0mdaily_returns\u001b[0m\u001b[0;34m.\u001b[0m\u001b[0mdot\u001b[0m\u001b[0;34m(\u001b[0m\u001b[0;34m[\u001b[0m\u001b[0;36m0.25\u001b[0m\u001b[0;34m]\u001b[0m \u001b[0;34m*\u001b[0m \u001b[0;36m4\u001b[0m\u001b[0;34m)\u001b[0m\u001b[0;34m\u001b[0m\u001b[0;34m\u001b[0m\u001b[0m\n\u001b[0m\u001b[1;32m     28\u001b[0m \u001b[0;34m\u001b[0m\u001b[0m\n\u001b[1;32m     29\u001b[0m         \u001b[0mmonte_carlo_cum_returns_df\u001b[0m\u001b[0;34m[\u001b[0m\u001b[0mm\u001b[0m\u001b[0;34m]\u001b[0m \u001b[0;34m=\u001b[0m \u001b[0;34m(\u001b[0m\u001b[0;36m1\u001b[0m \u001b[0;34m+\u001b[0m \u001b[0mweighted_returns\u001b[0m\u001b[0;34m.\u001b[0m\u001b[0mfillna\u001b[0m\u001b[0;34m(\u001b[0m\u001b[0;36m0\u001b[0m\u001b[0;34m)\u001b[0m\u001b[0;34m)\u001b[0m\u001b[0;34m.\u001b[0m\u001b[0mcumprod\u001b[0m\u001b[0;34m(\u001b[0m\u001b[0;34m)\u001b[0m\u001b[0;34m\u001b[0m\u001b[0;34m\u001b[0m\u001b[0m\n",
      "\u001b[0;32m~/anaconda3/envs/Viz/lib/python3.7/site-packages/pandas/core/frame.py\u001b[0m in \u001b[0;36mdot\u001b[0;34m(self, other)\u001b[0m\n\u001b[1;32m   1025\u001b[0m                 raise ValueError('Dot product shape mismatch, '\n\u001b[1;32m   1026\u001b[0m                                  '{s} vs {r}'.format(s=lvals.shape,\n\u001b[0;32m-> 1027\u001b[0;31m                                                      r=rvals.shape))\n\u001b[0m\u001b[1;32m   1028\u001b[0m \u001b[0;34m\u001b[0m\u001b[0m\n\u001b[1;32m   1029\u001b[0m         \u001b[0;32mif\u001b[0m \u001b[0misinstance\u001b[0m\u001b[0;34m(\u001b[0m\u001b[0mother\u001b[0m\u001b[0;34m,\u001b[0m \u001b[0mDataFrame\u001b[0m\u001b[0;34m)\u001b[0m\u001b[0;34m:\u001b[0m\u001b[0;34m\u001b[0m\u001b[0;34m\u001b[0m\u001b[0m\n",
      "\u001b[0;31mValueError\u001b[0m: Dot product shape mismatch, (11, 1) vs (4,)"
     ]
    }
   ],
   "source": [
    "run_simulations(get_stock_data('asdf'), 10, 252)"
   ]
  },
  {
   "cell_type": "code",
   "execution_count": 111,
   "metadata": {},
   "outputs": [],
   "source": [
    "def analyze_portfolio(sim_results):\n",
    "    '''\n",
    "    Since we decided to work with data from Google Finance (instead of Alpaca),\n",
    "    \n",
    "    sim_results := results from simulations\n",
    "    \n",
    "    Returns: TODO\n",
    "    '''\n",
    "    pass"
   ]
  },
  {
   "cell_type": "markdown",
   "metadata": {},
   "source": [
    "## Tests"
   ]
  },
  {
   "cell_type": "code",
   "execution_count": 112,
   "metadata": {},
   "outputs": [],
   "source": [
    "# Tests here\n"
   ]
  },
  {
   "cell_type": "code",
   "execution_count": null,
   "metadata": {},
   "outputs": [],
   "source": []
  }
 ],
 "metadata": {
  "kernelspec": {
   "display_name": "Python (Viz)",
   "language": "python",
   "name": "viz"
  },
  "language_info": {
   "codemirror_mode": {
    "name": "ipython",
    "version": 3
   },
   "file_extension": ".py",
   "mimetype": "text/x-python",
   "name": "python",
   "nbconvert_exporter": "python",
   "pygments_lexer": "ipython3",
   "version": "3.7.7"
  }
 },
 "nbformat": 4,
 "nbformat_minor": 4
}
