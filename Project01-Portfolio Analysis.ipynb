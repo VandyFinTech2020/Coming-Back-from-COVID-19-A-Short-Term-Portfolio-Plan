{
 "cells": [
  {
   "cell_type": "code",
   "execution_count": null,
   "metadata": {},
   "outputs": [],
   "source": [
    "import alpaca_trade_api as tradeapi\n",
    "import pandas as pd\n",
    "from pathlib import Path\n",
    "import numpy as np\n",
    "import datetime as dt\n",
    "import seaborn as sns\n",
    "from pathlib import Path\n",
    "import os\n",
    "from datetime import datetime, timedelta\n",
    "import matplotlib.pyplot as plt\n",
    "%matplotlib inline\n",
    "\n"
   ]
  },
  {
   "cell_type": "code",
   "execution_count": null,
   "metadata": {},
   "outputs": [],
   "source": [
    "np.random.seed(42)"
   ]
  },
  {
   "cell_type": "code",
   "execution_count": null,
   "metadata": {},
   "outputs": [],
   "source": [
    "# Set Alpaca API key and secret\n",
    "alpaca_api_key = os.getenv(\"ALPACA_API_KEY\")\n",
    "alpaca_secret_key = os.getenv(\"ALPACA_SECRET_KEY\")\n",
    "\n",
    "# Initialize the API\n",
    "api = tradeapi.REST(alpaca_api_key, alpaca_secret_key, api_version='v2')"
   ]
  },
  {
   "cell_type": "code",
   "execution_count": null,
   "metadata": {},
   "outputs": [],
   "source": [
    "comm_feb_csv = Path('../Project01/comm_feb.csv')\n",
    "fin_feb_csv = Path('../Project01/fin_feb.csv')\n",
    "food_feb_csv = Path('../Project01/food_feb.csv')\n",
    "hedge_feb_csv = Path('../Project01/hedge_feb.csv')\n",
    "pharma_feb_csv = Path('../Project01/pharma_feb.csv')\n",
    "sp500_feb_csv = Path('../Project01/sp500_feb.csv')\n",
    "\n",
    "comm_apr_csv = Path('../Project01/comm_apr.csv')\n",
    "fin_apr_csv = Path('../Project01/fin_apr.csv')\n",
    "food_apr_csv = Path('../Project01/food_apr.csv')\n",
    "hedge_apr_csv = Path('../Project01/hedge_apr.csv')\n",
    "pharma_apr_csv = Path('../Project01/pharma_apr.csv')\n",
    "sp500_apr_csv = Path('../Project01/sp500_apr.csv')\n",
    "\n",
    "\n",
    "comm_feb_df = pd.read_csv(comm_feb_csv, index_col=\"Date\", infer_datetime_format=True, parse_dates=True)\n",
    "fin_feb_df = pd.read_csv(fin_feb_csv, index_col=\"Date\", infer_datetime_format=True, parse_dates=True)\n",
    "food_feb_df = pd.read_csv(food_feb_csv, index_col=\"Date\", infer_datetime_format=True, parse_dates=True)\n",
    "hedge_feb_df = pd.read_csv(hedge_feb_csv, index_col=\"Date\", infer_datetime_format=True, parse_dates=True)\n",
    "pharma_feb_df = pd.read_csv(hedge_feb_csv, index_col=\"Date\", infer_datetime_format=True, parse_dates=True)\n",
    "sp500_feb_df = pd.read_csv(sp500_feb_csv, index_col=\"Date\", infer_datetime_format=True, parse_dates=True)\n",
    "\n",
    "comm_apr_df = pd.read_csv(comm_apr_csv, index_col=\"Date\", infer_datetime_format=True, parse_dates=True)\n",
    "fin_apr_df = pd.read_csv(fin_apr_csv, index_col=\"Date\", infer_datetime_format=True, parse_dates=True)\n",
    "food_apr_df = pd.read_csv(food_apr_csv, index_col=\"Date\", infer_datetime_format=True, parse_dates=True)\n",
    "hedge_apr_df = pd.read_csv(hedge_apr_csv, index_col=\"Date\", infer_datetime_format=True, parse_dates=True)\n",
    "pharma_apr_df = pd.read_csv(hedge_apr_csv, index_col=\"Date\", infer_datetime_format=True, parse_dates=True)\n",
    "sp500_apr_df = pd.read_csv(sp500_apr_csv, index_col=\"Date\", infer_datetime_format=True, parse_dates=True)"
   ]
  },
  {
   "cell_type": "code",
   "execution_count": null,
   "metadata": {},
   "outputs": [],
   "source": [
    "##Daily Returns\n",
    "comm_feb_returns = fin_feb_df.pct_change()\n",
    "fin_feb_returns = fin_feb_df.pct_change()\n",
    "food_feb_returns = food_feb_df.pct_change()\n",
    "hedge_feb_returns = hedge_feb_df.pct_change()\n",
    "pharma_feb_returns = pharma_feb_df.pct_change()\n",
    "sp500_feb_returns = sp500_feb_df.pct_change()\n",
    "\n",
    "comm_apr_returns = fin_apr_df.pct_change()\n",
    "fin_apr_returns = fin_apr_df.pct_change()\n",
    "food_apr_returns = food_apr_df.pct_change()\n",
    "hedge_apr_returns = hedge_apr_df.pct_change()\n",
    "pharma_apr_returns = pharma_apr_df.pct_change()\n",
    "sp500_apr_returns = sp500_apr_df.pct_change()\n",
    "\n",
    "#Drop nulls\n",
    "comm_feb_ret = comm_feb_returns.dropna()\n",
    "fin_feb_ret = fin_feb_returns.dropna()\n",
    "food_feb_ret = food_feb_returns.dropna()\n",
    "hedge_feb_ret = hedge_feb_returns.dropna()\n",
    "pharma_feb_ret = pharma_feb_returns.dropna()\n",
    "sp500_feb_ret = sp500_feb_returns.dropna()\n",
    "\n",
    "comm_apr_ret = comm_apr_returns.dropna()\n",
    "fin_apr_ret = fin_apr_returns.dropna()\n",
    "food_apr_ret = food_apr_returns.dropna()\n",
    "hedge_apr_ret = hedge_apr_returns.dropna()\n",
    "pharma_apr_ret = pharma_apr_returns.dropna()\n",
    "sp500_apr_ret = sp500_apr_returns.dropna()\n"
   ]
  },
  {
   "cell_type": "code",
   "execution_count": null,
   "metadata": {},
   "outputs": [],
   "source": [
    "#Combined Pre-COVID-19 ('feb') portfolios and  Post-COVID-19 ('apr') portfolios \n",
    "combined_feb_df = pd.concat([comm_feb_ret, fin_feb_ret, food_feb_ret, hedge_feb_ret, pharma_feb_ret, sp500_feb_ret], axis=\"columns\", join=\"inner\")\n",
    "#combined_apr_df = pd.merge([comm_apr_ret, fin_apr_ret, food_apr_ret, hedge_apr_ret, pharma_apr_ret, sp500_apr_ret], axis=\"columns\", join=\"inner\")\n",
    "combined_feb_df"
   ]
  },
  {
   "cell_type": "code",
   "execution_count": null,
   "metadata": {},
   "outputs": [],
   "source": [
    "##Standard Deviations of Daily Returns\n",
    "comm_feb_std = comm_feb_ret.std()\n",
    "fin_feb_std = fin_feb_ret.std()\n",
    "food_feb_std = food_feb_ret.std()\n",
    "hedge_feb_std = hedge_feb_ret.std()\n",
    "pharma_feb_std = pharma_feb_ret.std()\n",
    "\n",
    "comm_apr_std = comm_apr_ret.std()\n",
    "fin_apr_std = fin_apr_ret.std()\n",
    "food_apr_std = food_apr_ret.std()\n",
    "hedge_apr_std = hedge_apr_ret.std()\n",
    "pharma_apr_std = pharma_apr_ret.std()"
   ]
  },
  {
   "cell_type": "code",
   "execution_count": null,
   "metadata": {},
   "outputs": [],
   "source": []
  },
  {
   "cell_type": "code",
   "execution_count": null,
   "metadata": {},
   "outputs": [],
   "source": []
  },
  {
   "cell_type": "code",
   "execution_count": null,
   "metadata": {},
   "outputs": [],
   "source": [
    "#Monte Carlo Simulations\n",
    "## Data Preparation\n",
    "\n",
    "daily_returns_BAC = fin_covid_returns['BAC']\n",
    "daily_returns_GS = fin_covid_returns['GS']\n",
    "daily_returns_PYPL = fin_covid_returns['PYPL']\n",
    "daily_returns_V = fin_covid_returns['V']\n",
    "\n",
    "avg_return_BAC = daily_returns_BAC.mean()\n",
    "avg_return_GS = daily_returns_GS.mean()\n",
    "avg_return_PYPL = daily_returns_PYPL.mean()\n",
    "avg_return_V = daily_returns_V.mean()\n",
    "\n",
    "BAC_std = daily_returns_BAC.std()\n",
    "GS_std = daily_returns_GS.std()\n",
    "PYPL_std = daily_returns_PYPL.std()\n",
    "V_std = daily_returns_V.std()\n",
    "\n",
    "# Save the last day's closing price\n",
    "last_close_BAC = fin_covid_df['BAC'][-1]\n",
    "last_close_GS = fin_covid_df['GS'][-1]\n",
    "last_close_PYPL = fin_covid_df['PYPL'][-1]\n",
    "last_close_V = fin_covid_df['V'][-1]\n",
    "\n",
    "\n"
   ]
  },
  {
   "cell_type": "code",
   "execution_count": null,
   "metadata": {},
   "outputs": [],
   "source": [
    "# Setup the Monte Carlo Parameters\n",
    "number_simulations = 100\n",
    "number_records = 63 \n",
    "monte_carlo_price_df = pd.DataFrame()\n",
    "monte_carlo_cum_returns_df = pd.DataFrame()"
   ]
  },
  {
   "cell_type": "code",
   "execution_count": null,
   "metadata": {},
   "outputs": [],
   "source": [
    "for x in range(number_simulations):\n",
    "    simulated_prices_BAC = [last_close_BAC]\n",
    "    simulated_prices_GS = [last_close_GS]\n",
    "    simulated_prices_PYPL = [last_close_PYPL]\n",
    "    simulated_prices_V = [last_close_V]\n",
    "    \n",
    "    for n in range(number_records):\n",
    "        \n",
    "\n",
    "        simulated_price_BAC = simulated_prices_BAC[-1] * (1 + np.random.normal(avg_return_BAC, BAC_std))\n",
    "        simulated_price_GS = simulated_prices_GS[-1] * (1 + np.random.normal(avg_return_GS, GS_std))\n",
    "        simulated_price_PYPL = simulated_prices_PYPL[-1] * (1 + np.random.normal(avg_return_PYPL, PYPL_std))\n",
    "        simulated_price_V = simulated_prices_V[-1] * (1 + np.random.normal(avg_return_V, V_std))\n",
    "        \n",
    "        simulated_prices_BAC.append(simulated_price_BAC)\n",
    "        simulated_prices_GS.append(simulated_price_GS)\n",
    "        simulated_prices_PYPL.append(simulated_price_PYPL)\n",
    "        simulated_prices_V.append(simulated_price_V)\n",
    "    \n",
    "    monte_carlo_price_df[\"BAC prices\"] = pd.Series(simulated_prices_BAC)\n",
    "    monte_carlo_price_df[\"GS prices\"] = pd.Series(simulated_prices_GS)\n",
    "    monte_carlo_price_df[\"PYPL prices\"] = pd.Series(simulated_prices_PYPL)\n",
    "    monte_carlo_price_df[\"V prices\"] = pd.Series(simulated_prices_V)\n",
    "   \n",
    "    monte_carlo_daily_returns = monte_carlo_price_df.pct_change()\n",
    "    \n",
    "    #portfolio weights (4-stock financials portfolio evenly weighted)\n",
    "    weights = [0.25, 0.25, 0.25, 0.25]\n",
    "\n",
    "    weighted_monte_carlo_daily_returns = monte_carlo_daily_returns.dot(weights)\n",
    "    \n",
    "    \n",
    "\n",
    "    monte_carlo_cum_returns_df[x] = (1 + weighted_monte_carlo_daily_returns.fillna(0)).cumprod()\n",
    "    \n",
    "\n",
    "# monte_carlo_cum_returns_df = pd.Series(monte_carlo_cum_returns)\n",
    "monte_carlo_cum_returns_df.head()"
   ]
  },
  {
   "cell_type": "code",
   "execution_count": null,
   "metadata": {},
   "outputs": [],
   "source": [
    "#Plot Monte Carlo \n",
    "monte_carlo_cum_returns_df.plot(legend=None, figsize=(15,5), title=f\"{number_simulations} Simulations of Cumulative POST-COVID-19 Portfolio Return Trajectories Over the Next 100 Days\")"
   ]
  },
  {
   "cell_type": "code",
   "execution_count": null,
   "metadata": {},
   "outputs": [],
   "source": [
    "##Sharpe Ratios\n",
    "#sharpe_ratio = (combined_data.mean() * 252) / (combined_data.std() * np.sqrt(252))\n",
    "#sharpe_ratios.sort_values(ascending=False)"
   ]
  },
  {
   "cell_type": "code",
   "execution_count": null,
   "metadata": {},
   "outputs": [],
   "source": [
    "# Beta\n",
    "# YOUR CODE HERE\n",
    "#covariance = all_portfolio[\"Custom Port.\".cov(all_portfolios[\"S&P 500\"])\n",
    "#variance = all_portfolios[\"Custom Port.\"].var()\n",
    "#cust_portfolio_beta = tot_covariance / tot_variance\n",
    "#cust_portfolio_beta"
   ]
  }
 ],
 "metadata": {
  "kernelspec": {
   "display_name": "Python (Viz)",
   "language": "python",
   "name": "viz"
  },
  "language_info": {
   "codemirror_mode": {
    "name": "ipython",
    "version": 3
   },
   "file_extension": ".py",
   "mimetype": "text/x-python",
   "name": "python",
   "nbconvert_exporter": "python",
   "pygments_lexer": "ipython3",
   "version": "3.7.7"
  }
 },
 "nbformat": 4,
 "nbformat_minor": 4
}
